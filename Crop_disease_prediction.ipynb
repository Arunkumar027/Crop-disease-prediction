{
  "nbformat": 4,
  "nbformat_minor": 0,
  "metadata": {
    "colab": {
      "provenance": [],
      "gpuType": "V28",
      "include_colab_link": true
    },
    "kernelspec": {
      "name": "python3",
      "display_name": "Python 3"
    },
    "language_info": {
      "name": "python"
    },
    "widgets": {
      "application/vnd.jupyter.widget-state+json": {
        "7f4243b1230a47caaf504c23ea39c680": {
          "model_module": "@jupyter-widgets/controls",
          "model_name": "HBoxModel",
          "model_module_version": "1.5.0",
          "state": {
            "_dom_classes": [],
            "_model_module": "@jupyter-widgets/controls",
            "_model_module_version": "1.5.0",
            "_model_name": "HBoxModel",
            "_view_count": null,
            "_view_module": "@jupyter-widgets/controls",
            "_view_module_version": "1.5.0",
            "_view_name": "HBoxView",
            "box_style": "",
            "children": [
              "IPY_MODEL_68fb1c4da93a4300882ec7b5284fc301",
              "IPY_MODEL_6977ae1871264104a1c03b64f1589363",
              "IPY_MODEL_f1de1a4ea6be4163a0ebafa54370e8c2"
            ],
            "layout": "IPY_MODEL_e0fae4f8af7a49adb8040af298957ce4"
          }
        },
        "68fb1c4da93a4300882ec7b5284fc301": {
          "model_module": "@jupyter-widgets/controls",
          "model_name": "HTMLModel",
          "model_module_version": "1.5.0",
          "state": {
            "_dom_classes": [],
            "_model_module": "@jupyter-widgets/controls",
            "_model_module_version": "1.5.0",
            "_model_name": "HTMLModel",
            "_view_count": null,
            "_view_module": "@jupyter-widgets/controls",
            "_view_module_version": "1.5.0",
            "_view_name": "HTMLView",
            "description": "",
            "description_tooltip": null,
            "layout": "IPY_MODEL_aae276dbde0340979c9f2280cf91fdb7",
            "placeholder": "​",
            "style": "IPY_MODEL_c3f7a96e6d234c319b0f23463bbec226",
            "value": "model.safetensors: 100%"
          }
        },
        "6977ae1871264104a1c03b64f1589363": {
          "model_module": "@jupyter-widgets/controls",
          "model_name": "FloatProgressModel",
          "model_module_version": "1.5.0",
          "state": {
            "_dom_classes": [],
            "_model_module": "@jupyter-widgets/controls",
            "_model_module_version": "1.5.0",
            "_model_name": "FloatProgressModel",
            "_view_count": null,
            "_view_module": "@jupyter-widgets/controls",
            "_view_module_version": "1.5.0",
            "_view_name": "ProgressView",
            "bar_style": "success",
            "description": "",
            "description_tooltip": null,
            "layout": "IPY_MODEL_a50f2e3e29684fb6a5168cf0a2f07ef3",
            "max": 346284714,
            "min": 0,
            "orientation": "horizontal",
            "style": "IPY_MODEL_52977e823541480eb7c3bd58a95791ca",
            "value": 346284714
          }
        },
        "f1de1a4ea6be4163a0ebafa54370e8c2": {
          "model_module": "@jupyter-widgets/controls",
          "model_name": "HTMLModel",
          "model_module_version": "1.5.0",
          "state": {
            "_dom_classes": [],
            "_model_module": "@jupyter-widgets/controls",
            "_model_module_version": "1.5.0",
            "_model_name": "HTMLModel",
            "_view_count": null,
            "_view_module": "@jupyter-widgets/controls",
            "_view_module_version": "1.5.0",
            "_view_name": "HTMLView",
            "description": "",
            "description_tooltip": null,
            "layout": "IPY_MODEL_1ba1b948cb874f7383fc2d79577dd393",
            "placeholder": "​",
            "style": "IPY_MODEL_3f1a673963a34b89b4d3c7c4f26793ed",
            "value": " 346M/346M [00:06&lt;00:00, 155MB/s]"
          }
        },
        "e0fae4f8af7a49adb8040af298957ce4": {
          "model_module": "@jupyter-widgets/base",
          "model_name": "LayoutModel",
          "model_module_version": "1.2.0",
          "state": {
            "_model_module": "@jupyter-widgets/base",
            "_model_module_version": "1.2.0",
            "_model_name": "LayoutModel",
            "_view_count": null,
            "_view_module": "@jupyter-widgets/base",
            "_view_module_version": "1.2.0",
            "_view_name": "LayoutView",
            "align_content": null,
            "align_items": null,
            "align_self": null,
            "border": null,
            "bottom": null,
            "display": null,
            "flex": null,
            "flex_flow": null,
            "grid_area": null,
            "grid_auto_columns": null,
            "grid_auto_flow": null,
            "grid_auto_rows": null,
            "grid_column": null,
            "grid_gap": null,
            "grid_row": null,
            "grid_template_areas": null,
            "grid_template_columns": null,
            "grid_template_rows": null,
            "height": null,
            "justify_content": null,
            "justify_items": null,
            "left": null,
            "margin": null,
            "max_height": null,
            "max_width": null,
            "min_height": null,
            "min_width": null,
            "object_fit": null,
            "object_position": null,
            "order": null,
            "overflow": null,
            "overflow_x": null,
            "overflow_y": null,
            "padding": null,
            "right": null,
            "top": null,
            "visibility": null,
            "width": null
          }
        },
        "aae276dbde0340979c9f2280cf91fdb7": {
          "model_module": "@jupyter-widgets/base",
          "model_name": "LayoutModel",
          "model_module_version": "1.2.0",
          "state": {
            "_model_module": "@jupyter-widgets/base",
            "_model_module_version": "1.2.0",
            "_model_name": "LayoutModel",
            "_view_count": null,
            "_view_module": "@jupyter-widgets/base",
            "_view_module_version": "1.2.0",
            "_view_name": "LayoutView",
            "align_content": null,
            "align_items": null,
            "align_self": null,
            "border": null,
            "bottom": null,
            "display": null,
            "flex": null,
            "flex_flow": null,
            "grid_area": null,
            "grid_auto_columns": null,
            "grid_auto_flow": null,
            "grid_auto_rows": null,
            "grid_column": null,
            "grid_gap": null,
            "grid_row": null,
            "grid_template_areas": null,
            "grid_template_columns": null,
            "grid_template_rows": null,
            "height": null,
            "justify_content": null,
            "justify_items": null,
            "left": null,
            "margin": null,
            "max_height": null,
            "max_width": null,
            "min_height": null,
            "min_width": null,
            "object_fit": null,
            "object_position": null,
            "order": null,
            "overflow": null,
            "overflow_x": null,
            "overflow_y": null,
            "padding": null,
            "right": null,
            "top": null,
            "visibility": null,
            "width": null
          }
        },
        "c3f7a96e6d234c319b0f23463bbec226": {
          "model_module": "@jupyter-widgets/controls",
          "model_name": "DescriptionStyleModel",
          "model_module_version": "1.5.0",
          "state": {
            "_model_module": "@jupyter-widgets/controls",
            "_model_module_version": "1.5.0",
            "_model_name": "DescriptionStyleModel",
            "_view_count": null,
            "_view_module": "@jupyter-widgets/base",
            "_view_module_version": "1.2.0",
            "_view_name": "StyleView",
            "description_width": ""
          }
        },
        "a50f2e3e29684fb6a5168cf0a2f07ef3": {
          "model_module": "@jupyter-widgets/base",
          "model_name": "LayoutModel",
          "model_module_version": "1.2.0",
          "state": {
            "_model_module": "@jupyter-widgets/base",
            "_model_module_version": "1.2.0",
            "_model_name": "LayoutModel",
            "_view_count": null,
            "_view_module": "@jupyter-widgets/base",
            "_view_module_version": "1.2.0",
            "_view_name": "LayoutView",
            "align_content": null,
            "align_items": null,
            "align_self": null,
            "border": null,
            "bottom": null,
            "display": null,
            "flex": null,
            "flex_flow": null,
            "grid_area": null,
            "grid_auto_columns": null,
            "grid_auto_flow": null,
            "grid_auto_rows": null,
            "grid_column": null,
            "grid_gap": null,
            "grid_row": null,
            "grid_template_areas": null,
            "grid_template_columns": null,
            "grid_template_rows": null,
            "height": null,
            "justify_content": null,
            "justify_items": null,
            "left": null,
            "margin": null,
            "max_height": null,
            "max_width": null,
            "min_height": null,
            "min_width": null,
            "object_fit": null,
            "object_position": null,
            "order": null,
            "overflow": null,
            "overflow_x": null,
            "overflow_y": null,
            "padding": null,
            "right": null,
            "top": null,
            "visibility": null,
            "width": null
          }
        },
        "52977e823541480eb7c3bd58a95791ca": {
          "model_module": "@jupyter-widgets/controls",
          "model_name": "ProgressStyleModel",
          "model_module_version": "1.5.0",
          "state": {
            "_model_module": "@jupyter-widgets/controls",
            "_model_module_version": "1.5.0",
            "_model_name": "ProgressStyleModel",
            "_view_count": null,
            "_view_module": "@jupyter-widgets/base",
            "_view_module_version": "1.2.0",
            "_view_name": "StyleView",
            "bar_color": null,
            "description_width": ""
          }
        },
        "1ba1b948cb874f7383fc2d79577dd393": {
          "model_module": "@jupyter-widgets/base",
          "model_name": "LayoutModel",
          "model_module_version": "1.2.0",
          "state": {
            "_model_module": "@jupyter-widgets/base",
            "_model_module_version": "1.2.0",
            "_model_name": "LayoutModel",
            "_view_count": null,
            "_view_module": "@jupyter-widgets/base",
            "_view_module_version": "1.2.0",
            "_view_name": "LayoutView",
            "align_content": null,
            "align_items": null,
            "align_self": null,
            "border": null,
            "bottom": null,
            "display": null,
            "flex": null,
            "flex_flow": null,
            "grid_area": null,
            "grid_auto_columns": null,
            "grid_auto_flow": null,
            "grid_auto_rows": null,
            "grid_column": null,
            "grid_gap": null,
            "grid_row": null,
            "grid_template_areas": null,
            "grid_template_columns": null,
            "grid_template_rows": null,
            "height": null,
            "justify_content": null,
            "justify_items": null,
            "left": null,
            "margin": null,
            "max_height": null,
            "max_width": null,
            "min_height": null,
            "min_width": null,
            "object_fit": null,
            "object_position": null,
            "order": null,
            "overflow": null,
            "overflow_x": null,
            "overflow_y": null,
            "padding": null,
            "right": null,
            "top": null,
            "visibility": null,
            "width": null
          }
        },
        "3f1a673963a34b89b4d3c7c4f26793ed": {
          "model_module": "@jupyter-widgets/controls",
          "model_name": "DescriptionStyleModel",
          "model_module_version": "1.5.0",
          "state": {
            "_model_module": "@jupyter-widgets/controls",
            "_model_module_version": "1.5.0",
            "_model_name": "DescriptionStyleModel",
            "_view_count": null,
            "_view_module": "@jupyter-widgets/base",
            "_view_module_version": "1.2.0",
            "_view_name": "StyleView",
            "description_width": ""
          }
        }
      }
    },
    "accelerator": "TPU"
  },
  "cells": [
    {
      "cell_type": "markdown",
      "metadata": {
        "id": "view-in-github",
        "colab_type": "text"
      },
      "source": [
        "<a href=\"https://colab.research.google.com/github/Arunkumar027/Crop-disease-prediction/blob/main/Crop_disease_prediction.ipynb\" target=\"_parent\"><img src=\"https://colab.research.google.com/assets/colab-badge.svg\" alt=\"Open In Colab\"/></a>"
      ]
    },
    {
      "cell_type": "code",
      "source": [
        "import os\n",
        "os.environ['KAGGLE_CONFIG_DIR'] = \"/content/kaggle\""
      ],
      "metadata": {
        "id": "Zjb7RRlQ4zzx"
      },
      "execution_count": null,
      "outputs": []
    },
    {
      "cell_type": "code",
      "source": [
        "!kaggle datasets download -d emmarex/plantdisease"
      ],
      "metadata": {
        "colab": {
          "base_uri": "https://localhost:8080/"
        },
        "id": "xSF1goMR5OA-",
        "outputId": "6b2dd23f-a3d6-4fe2-d053-63fbd8f6739f"
      },
      "execution_count": null,
      "outputs": [
        {
          "output_type": "stream",
          "name": "stdout",
          "text": [
            "Dataset URL: https://www.kaggle.com/datasets/emmarex/plantdisease\n",
            "License(s): unknown\n",
            "Downloading plantdisease.zip to /content\n",
            " 98% 643M/658M [00:04<00:00, 186MB/s]\n",
            "100% 658M/658M [00:04<00:00, 156MB/s]\n"
          ]
        }
      ]
    },
    {
      "cell_type": "code",
      "source": [
        "!unzip plantdisease.zip -d plant_disease_data"
      ],
      "metadata": {
        "id": "0lW4sVDfYlYc"
      },
      "execution_count": null,
      "outputs": []
    },
    {
      "cell_type": "code",
      "source": [
        "import torch\n",
        "import torch.nn as nn\n",
        "from torch.optim import Adam\n",
        "from torch.utils.data import DataLoader\n",
        "from torchvision import datasets, transforms\n",
        "from timm import create_model\n",
        "import os"
      ],
      "metadata": {
        "id": "nXZ83EObYse2"
      },
      "execution_count": null,
      "outputs": []
    },
    {
      "cell_type": "code",
      "source": [
        "\n",
        "device = torch.device('cuda' if torch.cuda.is_available() else 'cpu')\n"
      ],
      "metadata": {
        "id": "UeMt6OajY4Ia"
      },
      "execution_count": null,
      "outputs": []
    },
    {
      "cell_type": "code",
      "source": [
        "# Dataset transformations\n",
        "transform = transforms.Compose([\n",
        "    transforms.Resize((224, 224)),\n",
        "    transforms.ToTensor(),\n",
        "    transforms.Normalize(mean=[0.485, 0.456, 0.406], std=[0.229, 0.224, 0.225])\n",
        "])"
      ],
      "metadata": {
        "id": "uTRJ0EfaY-uR"
      },
      "execution_count": null,
      "outputs": []
    },
    {
      "cell_type": "code",
      "source": [
        "from torch.utils.data import random_split\n",
        "\n",
        "\n",
        "dataset_dir = 'plant_disease_data/PlantVillage'\n",
        "\n",
        "# Load the entire dataset\n",
        "full_dataset = datasets.ImageFolder(root=dataset_dir, transform=transform)\n",
        "\n",
        "# Split into train (80%) and test (20%)\n",
        "train_size = int(0.8 * len(full_dataset))\n",
        "test_size = len(full_dataset) - train_size\n",
        "train_dataset, test_dataset = random_split(full_dataset, [train_size, test_size])"
      ],
      "metadata": {
        "id": "ia7Up8C9ZTnI"
      },
      "execution_count": null,
      "outputs": []
    },
    {
      "cell_type": "code",
      "source": [
        "# DataLoaders for batching\n",
        "train_loader = DataLoader(dataset=train_dataset, batch_size=32, shuffle=True)\n",
        "test_loader = DataLoader(dataset=test_dataset, batch_size=32, shuffle=False)"
      ],
      "metadata": {
        "id": "K0fdOZQwZFK0"
      },
      "execution_count": null,
      "outputs": []
    },
    {
      "cell_type": "code",
      "source": [
        "import os\n",
        "print(os.getcwd())\n",
        "print(os.listdir('plant_disease_data/PlantVillage'))"
      ],
      "metadata": {
        "colab": {
          "base_uri": "https://localhost:8080/"
        },
        "id": "s4dNeLG9ZYdS",
        "outputId": "fbfb2be9-2953-464b-b24d-fc2cb06637f2"
      },
      "execution_count": null,
      "outputs": [
        {
          "output_type": "stream",
          "name": "stdout",
          "text": [
            "/content\n",
            "['Tomato_Early_blight', 'Pepper__bell___Bacterial_spot', 'Tomato_Late_blight', 'Potato___Late_blight', 'Tomato_Septoria_leaf_spot', 'Tomato__Target_Spot', 'Potato___Early_blight', 'Tomato_Spider_mites_Two_spotted_spider_mite', 'Tomato__Tomato_YellowLeaf__Curl_Virus', 'Tomato_Leaf_Mold', 'Tomato__Tomato_mosaic_virus', 'Pepper__bell___healthy', 'Potato___healthy', 'Tomato_Bacterial_spot', 'Tomato_healthy']\n"
          ]
        }
      ]
    },
    {
      "cell_type": "code",
      "source": [
        "# Load the Vision Transformer model using the original dataset to get the number of classes\n",
        "model = create_model('vit_base_patch16_224', pretrained=True, num_classes=len(full_dataset.classes))\n",
        "model = model.to(device)"
      ],
      "metadata": {
        "colab": {
          "base_uri": "https://localhost:8080/",
          "height": 173,
          "referenced_widgets": [
            "7f4243b1230a47caaf504c23ea39c680",
            "68fb1c4da93a4300882ec7b5284fc301",
            "6977ae1871264104a1c03b64f1589363",
            "f1de1a4ea6be4163a0ebafa54370e8c2",
            "e0fae4f8af7a49adb8040af298957ce4",
            "aae276dbde0340979c9f2280cf91fdb7",
            "c3f7a96e6d234c319b0f23463bbec226",
            "a50f2e3e29684fb6a5168cf0a2f07ef3",
            "52977e823541480eb7c3bd58a95791ca",
            "1ba1b948cb874f7383fc2d79577dd393",
            "3f1a673963a34b89b4d3c7c4f26793ed"
          ]
        },
        "id": "ecvz9MVDZj_Y",
        "outputId": "5ff3ed77-afdd-43c6-e0e0-ea4f874c2a9c"
      },
      "execution_count": null,
      "outputs": [
        {
          "output_type": "stream",
          "name": "stderr",
          "text": [
            "/usr/local/lib/python3.10/dist-packages/huggingface_hub/utils/_token.py:89: UserWarning: \n",
            "The secret `HF_TOKEN` does not exist in your Colab secrets.\n",
            "To authenticate with the Hugging Face Hub, create a token in your settings tab (https://huggingface.co/settings/tokens), set it as secret in your Google Colab and restart your session.\n",
            "You will be able to reuse this secret in all of your notebooks.\n",
            "Please note that authentication is recommended but still optional to access public models or datasets.\n",
            "  warnings.warn(\n"
          ]
        },
        {
          "output_type": "display_data",
          "data": {
            "text/plain": [
              "model.safetensors:   0%|          | 0.00/346M [00:00<?, ?B/s]"
            ],
            "application/vnd.jupyter.widget-view+json": {
              "version_major": 2,
              "version_minor": 0,
              "model_id": "7f4243b1230a47caaf504c23ea39c680"
            }
          },
          "metadata": {}
        }
      ]
    },
    {
      "cell_type": "markdown",
      "source": [
        "/content\n",
        "['Tomato_Early_blight', 'Pepper__bell___Bacterial_spot', 'Tomato_Late_blight', 'Potato___Late_blight', 'Tomato_Septoria_leaf_spot', 'Tomato__Target_Spot', 'Potato___Early_blight', 'Tomato_Spider_mites_Two_spotted_spider_mite', 'Tomato__Tomato_YellowLeaf__Curl_Virus', 'Tomato_Leaf_Mold', 'Tomato__Tomato_mosaic_virus', 'Pepper__bell___healthy', 'Potato___healthy', 'Tomato_Bacterial_spot', 'Tomato_healthy']"
      ],
      "metadata": {
        "id": "4KDHs-2L-frf"
      }
    },
    {
      "cell_type": "code",
      "source": [
        "\n",
        "for param in model.parameters():\n",
        "    param.requires_grad = False"
      ],
      "metadata": {
        "id": "RkJyusqScQ8j"
      },
      "execution_count": null,
      "outputs": []
    },
    {
      "cell_type": "code",
      "source": [
        "\n",
        "for param in model.head.parameters():\n",
        "    param.requires_grad = True"
      ],
      "metadata": {
        "id": "6HsTx6X6cWA4"
      },
      "execution_count": null,
      "outputs": []
    },
    {
      "cell_type": "code",
      "source": [
        "# Loss function and optimizer\n",
        "criterion = nn.CrossEntropyLoss()\n",
        "optimizer = Adam(model.parameters(), lr=1e-4)"
      ],
      "metadata": {
        "id": "xLzOhJU3Z0P4"
      },
      "execution_count": null,
      "outputs": []
    },
    {
      "cell_type": "code",
      "source": [
        "# Fine-tuning the model\n",
        "num_epochs = 5\n",
        "for epoch in range(num_epochs):\n",
        "    model.train()\n",
        "    running_loss = 0.0\n",
        "    correct = 0\n",
        "    total = 0\n",
        "    for images, labels in train_loader:\n",
        "        images, labels = images.to(device), labels.to(device)\n",
        "\n",
        "        # Forward pass\n",
        "        outputs = model(images)\n",
        "        loss = criterion(outputs, labels)\n",
        "\n",
        "        # Backward pass and optimization\n",
        "        optimizer.zero_grad()\n",
        "        loss.backward()\n",
        "        optimizer.step()\n",
        "\n",
        "        # Track accuracy\n",
        "        _, predicted = torch.max(outputs.data, 1)\n",
        "        total += labels.size(0)\n",
        "        correct += (predicted == labels).sum().item()\n",
        "\n",
        "        running_loss += loss.item()\n",
        "\n",
        "    print(f'Epoch [{epoch+1}/{num_epochs}], Loss: {running_loss/len(train_loader):.4f}, Accuracy: {100 * correct / total:.2f}%')"
      ],
      "metadata": {
        "colab": {
          "base_uri": "https://localhost:8080/"
        },
        "id": "a__BEVhQccZH",
        "outputId": "4ade3c12-8f92-41cf-a97c-1831ea083836"
      },
      "execution_count": null,
      "outputs": [
        {
          "output_type": "stream",
          "name": "stdout",
          "text": [
            "Epoch [1/5], Loss: 0.0614, Accuracy: 98.30%\n",
            "Epoch [2/5], Loss: 0.0317, Accuracy: 99.16%\n",
            "Epoch [3/5], Loss: 0.0265, Accuracy: 99.35%\n",
            "Epoch [4/5], Loss: 0.0229, Accuracy: 99.44%\n",
            "Epoch [5/5], Loss: 0.0203, Accuracy: 99.50%\n"
          ]
        }
      ]
    },
    {
      "cell_type": "code",
      "source": [
        "#Testing the model\n",
        "model.eval()\n",
        "correct = 0\n",
        "total = 0\n",
        "with torch.no_grad():\n",
        "    for images, labels in test_loader:\n",
        "        images, labels = images.to(device), labels.to(device)\n",
        "        outputs = model(images)\n",
        "        _, predicted = torch.max(outputs.data, 1)\n",
        "        total += labels.size(0)\n",
        "        correct += (predicted == labels).sum().item()\n",
        "\n",
        "print(f'Test Accuracy: {100 * correct / total:.2f}%')"
      ],
      "metadata": {
        "colab": {
          "base_uri": "https://localhost:8080/"
        },
        "id": "NDyhru7uaAFf",
        "outputId": "f61b22fb-abe4-49cf-b839-e1b9f7c413af"
      },
      "execution_count": null,
      "outputs": [
        {
          "output_type": "stream",
          "name": "stdout",
          "text": [
            "Test Accuracy: 99.03%\n"
          ]
        }
      ]
    },
    {
      "cell_type": "code",
      "source": [
        "# Save the  model\n",
        "torch.save(model.state_dict(), 'vit_plantvillage_finetuned.pth')"
      ],
      "metadata": {
        "id": "grk5VKkrilJ5"
      },
      "execution_count": null,
      "outputs": []
    },
    {
      "cell_type": "code",
      "source": [
        "import cv2\n",
        "import torch\n",
        "from torchvision import transforms\n",
        "from timm import create_model\n",
        "from PIL import Image\n",
        "\n",
        "\n",
        "device = torch.device('cuda' if torch.cuda.is_available() else 'cpu')\n",
        "\n",
        "# Load  Vision Transformer model\n",
        "model = create_model('vit_base_patch16_224', pretrained=False, num_classes=15)\n",
        "model.load_state_dict(torch.load('vit_plantvillage_finetuned.pth', weights_only=True))  # Updated to weights_only\n",
        "model = model.to(device)\n",
        "model.eval()\n",
        "\n",
        "# Define the image transformations for input into the model\n",
        "transform = transforms.Compose([\n",
        "    transforms.Resize((224, 224)),\n",
        "    transforms.ToTensor(),\n",
        "    transforms.Normalize(mean=[0.485, 0.456, 0.406], std=[0.229, 0.224, 0.225])\n",
        "])\n",
        "\n",
        "\n",
        "\n",
        "# analyze real-time images from a video stream\n",
        "def real_time_crop_monitoring():\n",
        "\n",
        "    cap = cv2.VideoCapture(0)\n",
        "\n",
        "    if not cap.isOpened():\n",
        "        print(\"Error: Could not open video stream.\")\n",
        "        return\n",
        "\n",
        "    while True:\n",
        "\n",
        "        ret, frame = cap.read()\n",
        "        if not ret:\n",
        "            print(\"Error: Could not read frame.\")\n",
        "            break\n",
        "\n",
        "\n",
        "        pil_image = Image.fromarray(cv2.cvtColor(frame, cv2.COLOR_BGR2RGB))\n",
        "\n",
        "\n",
        "        input_image = transform(pil_image).unsqueeze(0).to(device)\n",
        "\n",
        "\n",
        "        with torch.no_grad():\n",
        "            output = model(input_image)\n",
        "            _, predicted_class = torch.max(output, 1)\n",
        "            label = class_labels[predicted_class.item()]\n",
        "\n",
        "\n",
        "        cv2.putText(frame, f'Prediction: {label}', (10, 30), cv2.FONT_HERSHEY_SIMPLEX, 1, (255, 0, 0), 2)\n",
        "\n",
        "\n",
        "        cv2.imshow('Real-time Crop Monitoring', frame)\n",
        "\n",
        "\n",
        "        if cv2.waitKey(1) & 0xFF == ord('q'):\n",
        "            break\n",
        "\n",
        "\n",
        "    cap.release()\n",
        "    cv2.destroyAllWindows()\n",
        "\n",
        "real_time_crop_monitoring()\n"
      ],
      "metadata": {
        "colab": {
          "base_uri": "https://localhost:8080/"
        },
        "id": "b2RxF8j2jCrK",
        "outputId": "ce902118-9077-44ff-90be-b713a7f4f4ac"
      },
      "execution_count": null,
      "outputs": [
        {
          "output_type": "stream",
          "name": "stdout",
          "text": [
            "Error: Could not open video stream.\n"
          ]
        }
      ]
    },
    {
      "cell_type": "code",
      "source": [
        "import os\n",
        "import torch\n",
        "from torchvision import transforms\n",
        "from timm import create_model\n",
        "from PIL import Image\n",
        "import cv2\n",
        "\n",
        "\n",
        "device = torch.device('cuda' if torch.cuda.is_available() else 'cpu')\n",
        "\n",
        "# Load  Vision Transformer model\n",
        "model = create_model('vit_base_patch16_224', pretrained=False, num_classes=15)\n",
        "model.load_state_dict(torch.load('vit_plantvillage_finetuned.pth', weights_only=True))\n",
        "model = model.to(device)\n",
        "model.eval()\n",
        "\n",
        "#  image transformations for input into the model\n",
        "transform = transforms.Compose([\n",
        "    transforms.Resize((224, 224)),\n",
        "    transforms.ToTensor(),\n",
        "    transforms.Normalize(mean=[0.485, 0.456, 0.406], std=[0.229, 0.224, 0.225])\n",
        "])\n",
        "\n",
        "# Class labels\n",
        "class_labels = ['Tomato_Early_blight', 'Pepper__bell___Bacterial_spot', 'Tomato_Late_blight', 'Potato___Late_blight', 'Tomato_Septoria_leaf_spot', 'Tomato__Target_Spot', 'Potato___Early_blight', 'Tomato_Spider_mites_Two_spotted_spider_mite', 'Tomato__Tomato_YellowLeaf__Curl_Virus', 'Tomato_Leaf_Mold', 'Tomato__Tomato_mosaic_virus', 'Pepper__bell___healthy', 'Potato___healthy', 'Tomato_Bacterial_spot', 'Tomato_healthy']\n",
        "\n",
        "\n",
        "def analyze_images_from_directory(image_dir):\n",
        "\n",
        "    image_files = [f for f in os.listdir(image_dir) if f.endswith(('jpg', 'jpeg', 'png'))]\n",
        "\n",
        "    for image_file in image_files:\n",
        "\n",
        "        image_path = os.path.join(image_dir, image_file)\n",
        "\n",
        "\n",
        "        pil_image = Image.open(image_path).convert('RGB')\n",
        "        input_image = transform(pil_image).unsqueeze(0).to(device)\n",
        "\n",
        "\n",
        "        with torch.no_grad():\n",
        "            output = model(input_image)\n",
        "            _, predicted_class = torch.max(output, 1)\n",
        "            label = class_labels[predicted_class.item()]\n",
        "\n",
        "\n",
        "        cv2_image = cv2.cvtColor(np.array(pil_image), cv2.COLOR_RGB2BGR)  # Convert PIL image to OpenCV format\n",
        "        cv2.putText(cv2_image, f'Prediction: {label}', (10, 30), cv2.FONT_HERSHEY_SIMPLEX, 1, (255, 0, 0), 2)\n",
        "\n",
        "\n",
        "        cv2.imshow('Image Analysis', cv2_image)\n",
        "\n",
        "\n",
        "        if cv2.waitKey(1000) & 0xFF == ord('q'):  # Display each image for 1000 ms (1 second)\n",
        "            break\n",
        "\n",
        "\n",
        "    cv2.destroyAllWindows()\n",
        "\n",
        "\n",
        "image_directory = ''\n",
        "analyze_images_from_directory(image_directory)\n"
      ],
      "metadata": {
        "id": "p8LXx5Lrj3t0"
      },
      "execution_count": null,
      "outputs": []
    },
    {
      "cell_type": "code",
      "source": [
        "import cv2\n",
        "import torch\n",
        "from torchvision import transforms\n",
        "from timm import create_model\n",
        "from PIL import Image\n",
        "import numpy as np\n",
        "from google.colab.patches import cv2_imshow\n",
        "\n",
        "# Device configuration\n",
        "device = torch.device('cuda' if torch.cuda.is_available() else 'cpu')\n",
        "\n",
        "# Load  Vision Transformer model\n",
        "model = create_model('vit_base_patch16_224', pretrained=False, num_classes=15)\n",
        "model.load_state_dict(torch.load('vit_plantvillage_finetuned.pth', weights_only=True))\n",
        "model = model.to(device)\n",
        "model.eval()\n",
        "\n",
        "# Define the image transformations for input into the model\n",
        "transform = transforms.Compose([\n",
        "    transforms.Resize((224, 224)),\n",
        "    transforms.ToTensor(),\n",
        "    transforms.Normalize(mean=[0.485, 0.456, 0.406], std=[0.229, 0.224, 0.225])\n",
        "])\n",
        "\n",
        "# Class labels\n",
        "class_labels = ['Tomato_Early_blight', 'Pepper__bell___Bacterial_spot', 'Tomato_Late_blight', 'Potato___Late_blight', 'Tomato_Septoria_leaf_spot', 'Tomato__Target_Spot', 'Potato___Early_blight', 'Tomato_Spider_mites_Two_spotted_spider_mite', 'Tomato__Tomato_YellowLeaf__Curl_Virus', 'Tomato_Leaf_Mold', 'Tomato__Tomato_mosaic_virus', 'Pepper__bell___healthy', 'Potato___healthy', 'Tomato_Bacterial_spot', 'Tomato_healthy'] # Updated class_labels to have all the correct labels\n",
        "\n",
        "# Function to analyze a single image\n",
        "def analyze_single_image(image_path):\n",
        "    # Load and preprocess the image\n",
        "    pil_image = Image.open(image_path).convert('RGB')\n",
        "    input_image = transform(pil_image).unsqueeze(0).to(device)\n",
        "\n",
        "    # Predict disease/health condition\n",
        "    with torch.no_grad():\n",
        "        output = model(input_image)\n",
        "        _, predicted_class = torch.max(output, 1)\n",
        "        label = class_labels[predicted_class.item()]\n",
        "\n",
        "    # Convert PIL image to OpenCV format for display\n",
        "    cv2_image = cv2.cvtColor(np.array(pil_image), cv2.COLOR_RGB2BGR)\n",
        "    cv2.putText(cv2_image, f'Prediction: {label}', (10, 30), cv2.FONT_HERSHEY_SIMPLEX, 1, (255, 0, 0), 2)\n",
        "\n",
        "\n",
        "    cv2_imshow(cv2_image)\n",
        "    cv2.waitKey(0)\n",
        "    cv2.destroyAllWindows()\n",
        "\n",
        "image_path = '/content/Leafspot2.jpg'\n",
        "analyze_single_image(image_path)"
      ],
      "metadata": {
        "colab": {
          "base_uri": "https://localhost:8080/",
          "height": 167
        },
        "id": "Z02zOPBKlIx3",
        "outputId": "debd91cf-2366-4812-e419-deb8752d70fa"
      },
      "execution_count": null,
      "outputs": [
        {
          "output_type": "display_data",
          "data": {
            "text/plain": [
              "<PIL.Image.Image image mode=RGB size=245x150>"
            ],
            "image/png": "[encoded data removed]",
            "image/jpeg": "[encoded data removed]"
          },
          "metadata": {}
        }
      ]
    }
  ]
}